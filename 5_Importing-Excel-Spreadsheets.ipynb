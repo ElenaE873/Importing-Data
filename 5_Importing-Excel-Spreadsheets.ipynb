{
 "cells": [
  {
   "cell_type": "code",
   "execution_count": null,
   "id": "019141bc",
   "metadata": {},
   "outputs": [],
   "source": [
    "#importing a spreadsheet\n",
    "import pandas as pd\n",
    "data = pd.read_excel(\"excelname.xlsx\")"
   ]
  },
  {
   "cell_type": "markdown",
   "id": "7ee30878",
   "metadata": {},
   "source": [
    "##### select columns and rows"
   ]
  },
  {
   "cell_type": "markdown",
   "id": "f662df79",
   "metadata": {},
   "source": [
    "- nrows: limit number of rows to load\n",
    "- skiprows: specify # of rows to skip\n",
    "- usecols: choose columns by name, position, or letter"
   ]
  },
  {
   "cell_type": "code",
   "execution_count": null,
   "id": "cf2c5065",
   "metadata": {},
   "outputs": [],
   "source": [
    "data = pd.read_excel(\"excelname.xlsx\",\n",
    "                    skiprows=2,\n",
    "                    usecols=\"W:Ab, AR\")  #ranges of columns by letters"
   ]
  },
  {
   "cell_type": "markdown",
   "id": "f9640d47",
   "metadata": {},
   "source": [
    "##### getting data from multiple worksheets"
   ]
  },
  {
   "cell_type": "markdown",
   "id": "6a06ab12",
   "metadata": {},
   "source": [
    "- by default read_excel() only pulls data from one worksheet, and this can be changed by the sheet_name argument\n",
    "- this can be accomplished by either passing the name or the number of the sheet or list of sheets"
   ]
  },
  {
   "cell_type": "code",
   "execution_count": null,
   "id": "23a48371",
   "metadata": {},
   "outputs": [],
   "source": [
    "#select sheets to load\n",
    "data = pd.read_excel(\"excelname.xlsx\",\n",
    "                    sheet_name = \"nameofsheet\")\n",
    "\n",
    "#or\n",
    "data = pd.read_excel(\"excelname.xlsx\",\n",
    "                    sheet_name = \"numberlocationofsheet\")\n",
    "\n",
    "#or selecting all sheets\n",
    "data = pd.read_excel(\"excelname.xlsx\",\n",
    "                    sheet_name = None) #<--"
   ]
  },
  {
   "cell_type": "markdown",
   "id": "951a6ab1",
   "metadata": {},
   "source": [
    "##### using  a loop to do this"
   ]
  },
  {
   "cell_type": "code",
   "execution_count": null,
   "id": "250c5c9a",
   "metadata": {},
   "outputs": [],
   "source": [
    "#1 - creating an empty dataframe to hold all loaded sheets\n",
    "all_data = pd.DataFrame()\n",
    "\n",
    "#2 - iterate through dataframes\n",
    "for sheet_name, frame in df.items():\n",
    "    frame[\"column\"] = sheet_name  #column is the name of the sheet_name\n",
    "    \n",
    "    all_data = all_data.append(frame)\n",
    "    #3 - add each dataframe to all_data\n",
    "\n",
    "#looping has the advantage of working with multiple sheets"
   ]
  },
  {
   "cell_type": "markdown",
   "id": "6b1112b3",
   "metadata": {},
   "source": [
    "##### modifying imports data types"
   ]
  },
  {
   "cell_type": "code",
   "execution_count": null,
   "id": "06e01cb9",
   "metadata": {},
   "outputs": [],
   "source": [
    "data = pd.read_excel(\"excelname.xlsx\",\n",
    "                     dtype = {\"Columns\":bool})"
   ]
  },
  {
   "cell_type": "code",
   "execution_count": null,
   "id": "509dd34a",
   "metadata": {},
   "outputs": [],
   "source": [
    "#count True values\n",
    "df.sum()\n",
    "\n",
    "#counting NA values\n",
    "df.isna().sum()"
   ]
  }
 ],
 "metadata": {
  "kernelspec": {
   "display_name": "Python 3 (ipykernel)",
   "language": "python",
   "name": "python3"
  },
  "language_info": {
   "codemirror_mode": {
    "name": "ipython",
    "version": 3
   },
   "file_extension": ".py",
   "mimetype": "text/x-python",
   "name": "python",
   "nbconvert_exporter": "python",
   "pygments_lexer": "ipython3",
   "version": "3.9.7"
  }
 },
 "nbformat": 4,
 "nbformat_minor": 5
}
