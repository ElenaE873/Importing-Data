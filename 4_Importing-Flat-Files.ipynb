{
 "cells": [
  {
   "cell_type": "markdown",
   "id": "a3c4bd16",
   "metadata": {},
   "source": [
    "#### Flat Files"
   ]
  },
  {
   "cell_type": "markdown",
   "id": "4af372c8",
   "metadata": {},
   "source": [
    "- data is stored a plain text (no formatting)\n",
    "- one row per line\n",
    "- separated by a delimiter (most common being \"comma-separated values (csv))"
   ]
  },
  {
   "cell_type": "code",
   "execution_count": null,
   "id": "452a23e2",
   "metadata": {},
   "outputs": [],
   "source": [
    "#pandas loads all flat files, regardless of delimiter\n",
    "import pandas as pd\n",
    "data = pd.read_csv('filname.csv')\n",
    "\n",
    "#sep argument for type of delimiter\n",
    "data = pd.read_csv('filname.csv', sep = \"\\t\") #tab delimited"
   ]
  },
  {
   "cell_type": "markdown",
   "id": "b627d22a",
   "metadata": {},
   "source": [
    "##### limit the data imported"
   ]
  },
  {
   "cell_type": "code",
   "execution_count": null,
   "id": "410d189d",
   "metadata": {},
   "outputs": [],
   "source": [
    "#limiting by columns, by column name or by column numbers\n",
    "col_names =[list of column names]\n",
    "col_num = [list of column numbers]\n",
    "\n",
    "data_v1 = pd.read_csv('filname.csv', usecols=col_names)\n",
    "\n",
    "data_v2 = pd.read_csv('filname.csv', usecols=col_nums)"
   ]
  },
  {
   "cell_type": "code",
   "execution_count": null,
   "id": "4f15f2c5",
   "metadata": {},
   "outputs": [],
   "source": [
    "#limiting by rows\n",
    "data_v3 = pd.read_csv('filname.csv', nrows=numberofrows)\n",
    "\n",
    "#skipping rows\n",
    "data_v3 = pd.read_csv('filname.csv', nrows = numberofrows,\n",
    "                     skiprows = numberofrowstoskip,  #must also add header = None\n",
    "                     header=None)"
   ]
  },
  {
   "cell_type": "markdown",
   "id": "968d0589",
   "metadata": {},
   "source": [
    "##### assigning column names"
   ]
  },
  {
   "cell_type": "code",
   "execution_count": null,
   "id": "13ef7a44",
   "metadata": {},
   "outputs": [],
   "source": [
    "data_v4 = pd.read_csv('filname.csv', nrows = numberofrows,\n",
    "                     skiprows = numberofrowstoskip,  \n",
    "                     header=None,\n",
    "                     names=col_names) #<---"
   ]
  },
  {
   "cell_type": "markdown",
   "id": "06cc6493",
   "metadata": {},
   "source": [
    "##### Handing errors or missing data"
   ]
  },
  {
   "cell_type": "markdown",
   "id": "67059f7e",
   "metadata": {},
   "source": [
    "- column data types are wrong\n",
    "- values are missing\n",
    "- records that cannot be read"
   ]
  },
  {
   "cell_type": "code",
   "execution_count": null,
   "id": "2b3e5469",
   "metadata": {},
   "outputs": [],
   "source": [
    "#using the na_values argumnet to custom set missing values\n",
    "data_v5 = pd.read_csv('filname.csv', \n",
    "                      na_values = {\"column\" : \"value in column\"})\n",
    "                      #any value in the column should be treated as missing data\n",
    "    #for example when you want to treat zeros as missing data"
   ]
  },
  {
   "cell_type": "code",
   "execution_count": null,
   "id": "9b42a655",
   "metadata": {},
   "outputs": [],
   "source": [
    "#line with errors (parsing errors)\n",
    "#setting \"error_bad_lines=False\" to skip unparseable records\n",
    "#setting \"warn_bad_lines=True\" to see messages when records are skipped\n",
    "data_v6 = pd.read_csv('filname.csv',\n",
    "                      error_bad_lines=False,\n",
    "                      warn_bad_lines=True)"
   ]
  }
 ],
 "metadata": {
  "kernelspec": {
   "display_name": "Python 3 (ipykernel)",
   "language": "python",
   "name": "python3"
  },
  "language_info": {
   "codemirror_mode": {
    "name": "ipython",
    "version": 3
   },
   "file_extension": ".py",
   "mimetype": "text/x-python",
   "name": "python",
   "nbconvert_exporter": "python",
   "pygments_lexer": "ipython3",
   "version": "3.9.7"
  }
 },
 "nbformat": 4,
 "nbformat_minor": 5
}
