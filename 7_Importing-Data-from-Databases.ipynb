{
 "cells": [
  {
   "cell_type": "markdown",
   "id": "a487d751",
   "metadata": {},
   "source": [
    "#### Relational Databases"
   ]
  },
  {
   "cell_type": "markdown",
   "id": "d65e7bee",
   "metadata": {},
   "source": [
    "- data organized in tables that can be linked via **Unique Keys**\n",
    "- Each **ROW**: instance of an entity\n",
    "- Each **COLUMN**: information about an attribute\n",
    "- interface with SQL"
   ]
  },
  {
   "cell_type": "markdown",
   "id": "2d9077af",
   "metadata": {},
   "source": [
    "Types of Common Relational Databases"
   ]
  },
  {
   "cell_type": "markdown",
   "id": "3cac41c9",
   "metadata": {},
   "source": [
    "- Microsoft SQL Server\n",
    "- Oracle\n",
    "- Postgre\n",
    "- SQLite"
   ]
  },
  {
   "cell_type": "markdown",
   "id": "a78f7b63",
   "metadata": {},
   "source": [
    "##### SQLite"
   ]
  },
  {
   "cell_type": "markdown",
   "id": "e358cc51",
   "metadata": {},
   "source": [
    "- databases are computer files"
   ]
  },
  {
   "cell_type": "markdown",
   "id": "6fe3ccf7",
   "metadata": {},
   "source": [
    "##### Connecting to Databases"
   ]
  },
  {
   "cell_type": "markdown",
   "id": "b4235d8e",
   "metadata": {},
   "source": [
    "- Step 1 - Create a way to connect to database\n",
    "- Step 2 - Query database with SQL and Pandas"
   ]
  },
  {
   "cell_type": "markdown",
   "id": "f40505ea",
   "metadata": {},
   "source": [
    "#### SQLAchemy"
   ]
  },
  {
   "cell_type": "markdown",
   "id": "eb3f2141",
   "metadata": {},
   "source": [
    "##### create_engine()"
   ]
  },
  {
   "cell_type": "markdown",
   "id": "26fc8588",
   "metadata": {},
   "source": [
    "- makes an engine to handle databases connections\n",
    "- needs a string URL of database to connect to\n",
    "- SQLite URL FORMAT: sqlite:///filename.db"
   ]
  },
  {
   "cell_type": "markdown",
   "id": "534681b0",
   "metadata": {},
   "source": [
    "##### read_sql() arguments"
   ]
  },
  {
   "cell_type": "markdown",
   "id": "51c190e3",
   "metadata": {},
   "source": [
    "- query: string containing SQL query to run or table to load\n",
    "- engine: connection/databases engine object"
   ]
  },
  {
   "cell_type": "markdown",
   "id": "ac28742e",
   "metadata": {},
   "source": [
    "#### SQL and pandas to perform a query from database"
   ]
  },
  {
   "cell_type": "code",
   "execution_count": null,
   "id": "e139a72a",
   "metadata": {},
   "outputs": [],
   "source": [
    "#load libraries\n",
    "import pandas as pd\n",
    "from sqlalchemy import create_engine\n",
    "\n",
    "#create database engine\n",
    "engine = create_engine(\"sqlite:///data.db\")\n",
    "\n",
    "#write the query\n",
    "query = \"\"\"SELECT *\n",
    "        FROM table_name\n",
    "        WHERE column = 'value';\"\"\"  #<-- doing triple quotes allows split on multiple lines\n",
    "                                    #this makes it easier to read\n",
    "\n",
    "#query the database\n",
    "data = pd.read_sql(query, engine)"
   ]
  }
 ],
 "metadata": {
  "kernelspec": {
   "display_name": "Python 3 (ipykernel)",
   "language": "python",
   "name": "python3"
  },
  "language_info": {
   "codemirror_mode": {
    "name": "ipython",
    "version": 3
   },
   "file_extension": ".py",
   "mimetype": "text/x-python",
   "name": "python",
   "nbconvert_exporter": "python",
   "pygments_lexer": "ipython3",
   "version": "3.9.7"
  }
 },
 "nbformat": 4,
 "nbformat_minor": 5
}
