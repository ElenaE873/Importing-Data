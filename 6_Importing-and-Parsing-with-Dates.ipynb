{
 "cells": [
  {
   "cell_type": "markdown",
   "id": "18bb4cab",
   "metadata": {},
   "source": [
    "#### Date and Time Data"
   ]
  },
  {
   "cell_type": "markdown",
   "id": "a528bac2",
   "metadata": {},
   "source": [
    "- have their own datatypes\n",
    "- datetime values can be translated into strings"
   ]
  },
  {
   "cell_type": "markdown",
   "id": "532963da",
   "metadata": {},
   "source": [
    "by default:\n",
    "- pandas loads datetime columns as objects (aka. strings)\n",
    "- must use the \"parse_dates\" argument to get a list of column names or numbers to parse"
   ]
  },
  {
   "cell_type": "markdown",
   "id": "302c4f1d",
   "metadata": {},
   "source": [
    "parse_dates takes:\n",
    "- list of column names or numbers\n",
    "- a list containing a list of columns to combine or parse\n",
    "- a dictionary where: \n",
    "    - **keys** are new columns & \n",
    "    - **values** are lists of columns to parse"
   ]
  },
  {
   "cell_type": "code",
   "execution_count": null,
   "id": "8c11afd1",
   "metadata": {},
   "outputs": [],
   "source": [
    "#define the date columns to be parsed\n",
    "date_cols = [\"column1\", \"column2\"]\n",
    "\n",
    "#load file parsing standard and split datetime columns\n",
    "df = pd.read_excel(\"excelfilename.xlsx\",\n",
    "                  parse_dates = date_cols)"
   ]
  },
  {
   "cell_type": "markdown",
   "id": "0cfc96f1",
   "metadata": {},
   "source": [
    "#### non-standard dates"
   ]
  },
  {
   "cell_type": "markdown",
   "id": "780e4025",
   "metadata": {},
   "source": [
    "- using pd.to_datetime() after loading data if parse_dates won't work\n",
    "- to_datetime() arguments:\n",
    "    - dataframe and column to convert\n",
    "    - format: string representation of datetime format"
   ]
  }
 ],
 "metadata": {
  "kernelspec": {
   "display_name": "Python 3 (ipykernel)",
   "language": "python",
   "name": "python3"
  },
  "language_info": {
   "codemirror_mode": {
    "name": "ipython",
    "version": 3
   },
   "file_extension": ".py",
   "mimetype": "text/x-python",
   "name": "python",
   "nbconvert_exporter": "python",
   "pygments_lexer": "ipython3",
   "version": "3.9.7"
  }
 },
 "nbformat": 4,
 "nbformat_minor": 5
}
