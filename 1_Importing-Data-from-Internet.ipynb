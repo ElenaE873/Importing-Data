{
 "cells": [
  {
   "cell_type": "markdown",
   "id": "98916fd1",
   "metadata": {},
   "source": [
    "##### The urllib package"
   ]
  },
  {
   "cell_type": "markdown",
   "id": "5c43c039",
   "metadata": {},
   "source": [
    "- provides interface for fetching data across the web\n",
    "- urlopen()  accepts URLs instead of file names\n",
    "\n",
    "urlretrieve():\n",
    "- performs a GET request\n",
    "- and saves the data locallly"
   ]
  },
  {
   "cell_type": "code",
   "execution_count": null,
   "id": "603b90d7",
   "metadata": {},
   "outputs": [],
   "source": [
    "from urllib.request import urlretrieve\n",
    "import pandas as pd\n",
    "\n",
    "#assigning the url to a variable\n",
    "url = 'urlname.csv'\n",
    "\n",
    "#saving the file locally\n",
    "urlretrieve(url, 'filename_towriteto.csv')\n",
    "\n",
    "df = pd.read_csv('winequality-red.csv')"
   ]
  },
  {
   "cell_type": "code",
   "execution_count": null,
   "id": "4e553cd0",
   "metadata": {},
   "outputs": [],
   "source": [
    "#reminder of excel \n",
    "# Assign url of file: url\n",
    "url='urlname.xls'\n",
    "\n",
    "\n",
    "# Read in all sheets of Excel file: xls\n",
    "xls=pd.read_excel(url, sheet_name=None)\n",
    "\n",
    "# Print the sheetnames to the shell\n",
    "print(xls.keys())\n",
    "\n",
    "# Print the head of the first sheet (using its name, NOT its index)\n",
    "print(xls['sheet_name'].head())"
   ]
  },
  {
   "cell_type": "markdown",
   "id": "9932d722",
   "metadata": {},
   "source": [
    "#### HTTP requests to import files from the web"
   ]
  },
  {
   "cell_type": "markdown",
   "id": "af4bb26a",
   "metadata": {},
   "source": [
    "URL:\n",
    "- Universal Resource Locator\n",
    "- References to web resources\n",
    "- Ingredients:\n",
    "    - Protocol Identifier: - http:\n",
    "    - Resource Name: - domain address\n",
    "    \n",
    "HTTP:\n",
    "- HyperText Transfer Protocol\n",
    "\n",
    "HTTPS:\n",
    "- the more secure form of HTTP\n",
    "\n",
    "Going to a Website:\n",
    "- sending an HTTP request - aka. GET request to a server\n",
    "\n",
    "HTML:\n",
    "- HyperText Markup Language ; standard mark-up language for the web."
   ]
  },
  {
   "cell_type": "code",
   "execution_count": null,
   "id": "08b792dc",
   "metadata": {},
   "outputs": [],
   "source": [
    "#GET request using urllib\n",
    "#extract HTML from a website\n",
    "\n",
    "#import the necessary functions\n",
    "from urllib.request import urlopen, Request\n",
    "\n",
    "#specify the url in a variable\n",
    "url=\"website_url\"\n",
    "\n",
    "#package the GET request using the function request\n",
    "request = Request(url)\n",
    "\n",
    "#send the request and catch the response using the function urlopen()\n",
    "response = urlopen(request)\n",
    "\n",
    "#this returns an http response object which has an associated read method\n",
    "#apply the read method to the response\n",
    "#returns the html as a string and store in a variable\n",
    "html = response.read()\n",
    "\n",
    "#close the response\n",
    "response.close()"
   ]
  },
  {
   "cell_type": "markdown",
   "id": "3d7c5ace",
   "metadata": {},
   "source": [
    "##### Requests package"
   ]
  },
  {
   "cell_type": "markdown",
   "id": "aee0e845",
   "metadata": {},
   "source": [
    "- send and get data from website\n",
    "- not tied to a particular API"
   ]
  },
  {
   "cell_type": "code",
   "execution_count": null,
   "id": "b106da59",
   "metadata": {},
   "outputs": [],
   "source": [
    "#GET requests using requests package\n",
    "\n",
    "import requests\n",
    "\n",
    "url=\"website_url\"\n",
    "\n",
    "r = requests.get(url)\n",
    "\n",
    "#apply the text method to the response which returns\n",
    "#the html as a string\n",
    "text = r.text"
   ]
  },
  {
   "cell_type": "markdown",
   "id": "008b9110",
   "metadata": {},
   "source": [
    "Optional Paramaters\n",
    "- params: takes a dictionary of parameters and values to customize API request\n",
    "- headers: takes a dictionary or an atuthetication key (if one is required)\n",
    "\n",
    "Result:\n",
    "- object containing the data and metadata\n",
    "\n",
    "To get just the data:\n",
    "- response.json(): returns a dictionary (which read_json() cannot parse)\n",
    "- to load / read data must use"
   ]
  },
  {
   "cell_type": "markdown",
   "id": "7b04f6ce",
   "metadata": {},
   "source": [
    "##### Yelp request"
   ]
  },
  {
   "cell_type": "code",
   "execution_count": null,
   "id": "49fde0ee",
   "metadata": {},
   "outputs": [],
   "source": [
    "import requests\n",
    "import pandas as pd\n",
    "\n",
    "#set up the url string\n",
    "api_url = \"http://api.yelp.com/v3/businesses/search\"\n",
    "\n",
    "#setup parameter dictionary according to documentatino\n",
    "params = {\"term\": \"bookstore\",\n",
    "         \"location\": \"San Francisco\"}\n",
    "\n",
    "#set up header dictionary w/ API key (according to documentation)\n",
    "headers = {\"Authorization\": \"Bearer {}\".format(api_key)}\n",
    "\n",
    "#call the API\n",
    "response = requests.get(api_url,\n",
    "                       params = params,\n",
    "                       headers = headers)\n",
    "\n",
    "#parsing responses to isolate just the data (without the metadata)\n",
    "#1 - isolate the JSON data from the response object\n",
    "data = response.json()\n",
    "\n",
    "#2 - load data to a dataframe (not the metadata)\n",
    "data_v2 = pd.DataFrame(data[\"businesses\"])"
   ]
  }
 ],
 "metadata": {
  "kernelspec": {
   "display_name": "Python 3 (ipykernel)",
   "language": "python",
   "name": "python3"
  },
  "language_info": {
   "codemirror_mode": {
    "name": "ipython",
    "version": 3
   },
   "file_extension": ".py",
   "mimetype": "text/x-python",
   "name": "python",
   "nbconvert_exporter": "python",
   "pygments_lexer": "ipython3",
   "version": "3.9.7"
  }
 },
 "nbformat": 4,
 "nbformat_minor": 5
}
